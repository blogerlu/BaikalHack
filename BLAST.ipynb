{
 "cells": [
  {
   "cell_type": "code",
   "execution_count": 2,
   "metadata": {},
   "outputs": [],
   "source": [
    "from Bio.Blast import NCBIWWW\n",
    "from Bio import SeqIO \n",
    "from Bio.Blast import NCBIXML\n",
    "from Bio import Entrez"
   ]
  },
  {
   "cell_type": "code",
   "execution_count": 3,
   "metadata": {},
   "outputs": [],
   "source": [
    "import os"
   ]
  },
  {
   "cell_type": "code",
   "execution_count": 4,
   "metadata": {},
   "outputs": [],
   "source": [
    "def blast_processing(path, res_path):\n",
    "\n",
    "    print('START BLAST ' + path)\n",
    "    seq_record = next(SeqIO.parse(open(path + '.fasta'),'fasta'))  \n",
    "    result_handle = NCBIWWW.qblast(\"blastn\", \"nt\", seq_record.seq) \n",
    "    \n",
    "    with open(res_path + '_blast.xml', 'w') as save_file: \n",
    "        blast_results = result_handle.read() \n",
    "        save_file.write(blast_results)"
   ]
  },
  {
   "cell_type": "code",
   "execution_count": 5,
   "metadata": {},
   "outputs": [],
   "source": [
    "def result_processing(path, count=5):\n",
    "    \n",
    "    \"\"\"\n",
    "        Processing data and return names protein \n",
    "    \"\"\"\n",
    "    print('START PROCESSING ' + path)\n",
    "    E_VALUE_THRESH = 1e-20\n",
    "    titels = []\n",
    "    x = 0\n",
    "    \n",
    "    for record in NCBIXML.parse(open(path + '_blast.xml')):\n",
    "        if record.alignments: \n",
    "            print(\"\\n\") \n",
    "            print(\"query: %s\" % record.query[:100]) \n",
    "            \n",
    "        for align in record.alignments: \n",
    "            for hsp in align.hsps: \n",
    "                if hsp.expect < E_VALUE_THRESH: \n",
    "                    print(\"match: %s \" % align.title)\n",
    "                    titels.append(align.title)\n",
    "                    x += 1\n",
    "            if x == count:\n",
    "                break\n",
    "                \n",
    "    return titels"
   ]
  },
  {
   "cell_type": "code",
   "execution_count": 6,
   "metadata": {},
   "outputs": [
    {
     "data": {
      "text/plain": [
       "['.ipynb_checkpoints',\n",
       " 'BLAST.ipynb',\n",
       " 'Data',\n",
       " 'final.txt',\n",
       " 'frame.ipynb',\n",
       " 'test.gbk',\n",
       " 'test.ipynb']"
      ]
     },
     "execution_count": 6,
     "metadata": {},
     "output_type": "execute_result"
    }
   ],
   "source": [
    "os.listdir()"
   ]
  },
  {
   "cell_type": "code",
   "execution_count": 10,
   "metadata": {},
   "outputs": [],
   "source": [
    "os.chdir('D:/BaikalHack/Scripts/Data/')"
   ]
  },
  {
   "cell_type": "code",
   "execution_count": 11,
   "metadata": {},
   "outputs": [],
   "source": [
    "files = os.listdir()"
   ]
  },
  {
   "cell_type": "code",
   "execution_count": null,
   "metadata": {},
   "outputs": [],
   "source": []
  },
  {
   "cell_type": "code",
   "execution_count": 12,
   "metadata": {},
   "outputs": [],
   "source": [
    "sequence = []\n",
    "\n",
    "for path in files:\n",
    "    file = open(path, 'r')\n",
    "    \n",
    "    sq = ''\n",
    "    k = False\n",
    "    \n",
    "    for line in file:\n",
    "        line = line[:]\n",
    "        if '>' in line and k == True:\n",
    "            sequence.append([name[1:].replace(\"\\n\", \"\"), sq.replace(\"\\n\", \"\")])\n",
    "            sq = ''\n",
    "            k = False\n",
    "        if '>' in line:\n",
    "            name = line\n",
    "        else:\n",
    "            sq += line\n",
    "            k = True\n",
    "    sequence.append([name[1:].replace(\"\\n\", \"\"), sq.replace(\"\\n\", \"\")])\n",
    "            \n",
    "    file.close()"
   ]
  },
  {
   "cell_type": "code",
   "execution_count": 13,
   "metadata": {},
   "outputs": [],
   "source": [
    "os.mkdir('new_data')\n",
    "os.chdir('new_data')\n",
    "for name, s in sequence:\n",
    "    file = open(name + '.fasta', 'w')\n",
    "    file.write('>' + name)\n",
    "    file.write('\\n')\n",
    "    file.write(s)\n",
    "    file.close()"
   ]
  },
  {
   "cell_type": "code",
   "execution_count": 10,
   "metadata": {},
   "outputs": [
    {
     "data": {
      "text/plain": [
       "42"
      ]
     },
     "execution_count": 10,
     "metadata": {},
     "output_type": "execute_result"
    }
   ],
   "source": [
    "len(os.listdir())"
   ]
  },
  {
   "cell_type": "code",
   "execution_count": 11,
   "metadata": {},
   "outputs": [],
   "source": [
    "from tqdm import tqdm"
   ]
  },
  {
   "cell_type": "code",
   "execution_count": null,
   "metadata": {},
   "outputs": [
    {
     "name": "stderr",
     "output_type": "stream",
     "text": [
      "\r",
      "  0%|                                                                                           | 0/42 [00:00<?, ?it/s]"
     ]
    },
    {
     "name": "stdout",
     "output_type": "stream",
     "text": [
      "START BLAST Comephorus_baikalensis_1\n"
     ]
    }
   ],
   "source": [
    "fil = open('D:/BaikalHack/Scripts/final.txt', 'w')\n",
    "finish = []\n",
    "for name, s in tqdm(sequence):\n",
    "    blast_processing(name, name)\n",
    "    res = result_processing(name, count=5)\n",
    "    fil.write(res[0])\n",
    "    finish.append(res)\n",
    "    fil.write('\\n')\n",
    "    print('finish: ', finish)\n",
    "    print('\\n')\n",
    "fil.close()"
   ]
  },
  {
   "cell_type": "code",
   "execution_count": 29,
   "metadata": {
    "scrolled": true
   },
   "outputs": [
    {
     "name": "stdout",
     "output_type": "stream",
     "text": [
      "\n",
      "\n",
      "query: No definition line\n",
      "match: gi|1784375287|ref|XM_031876489.1| PREDICTED: Anarrhichthys ocellatus 1-acylglycerol-3-phosphate O-acyltransferase 4 (agpat4), transcript variant X2, mRNA \n",
      "match: gi|1784375285|ref|XM_031876481.1| PREDICTED: Anarrhichthys ocellatus 1-acylglycerol-3-phosphate O-acyltransferase 4 (agpat4), transcript variant X1, mRNA \n",
      "match: gi|1678726875|ref|XM_029449494.1| PREDICTED: Cottoperca gobio 1-acylglycerol-3-phosphate O-acyltransferase 4 (agpat4), transcript variant X2, mRNA \n",
      "match: gi|1678726873|ref|XM_029449493.1| PREDICTED: Cottoperca gobio 1-acylglycerol-3-phosphate O-acyltransferase 4 (agpat4), transcript variant X1, mRNA \n",
      "match: gi|1898603393|ref|XM_031302987.2| PREDICTED: Sander lucioperca 1-acylglycerol-3-phosphate O-acyltransferase 4 (lysophosphatidic acid acyltransferase, delta) (agpat4), transcript variant X2, mRNA \n"
     ]
    }
   ],
   "source": [
    "res = result_processing(sequence[0][0])"
   ]
  },
  {
   "cell_type": "code",
   "execution_count": 30,
   "metadata": {
    "scrolled": true
   },
   "outputs": [
    {
     "data": {
      "text/plain": [
       "['gi|1784375287|ref|XM_031876489.1| PREDICTED: Anarrhichthys ocellatus 1-acylglycerol-3-phosphate O-acyltransferase 4 (agpat4), transcript variant X2, mRNA',\n",
       " 'gi|1784375285|ref|XM_031876481.1| PREDICTED: Anarrhichthys ocellatus 1-acylglycerol-3-phosphate O-acyltransferase 4 (agpat4), transcript variant X1, mRNA',\n",
       " 'gi|1678726875|ref|XM_029449494.1| PREDICTED: Cottoperca gobio 1-acylglycerol-3-phosphate O-acyltransferase 4 (agpat4), transcript variant X2, mRNA',\n",
       " 'gi|1678726873|ref|XM_029449493.1| PREDICTED: Cottoperca gobio 1-acylglycerol-3-phosphate O-acyltransferase 4 (agpat4), transcript variant X1, mRNA',\n",
       " 'gi|1898603393|ref|XM_031302987.2| PREDICTED: Sander lucioperca 1-acylglycerol-3-phosphate O-acyltransferase 4 (lysophosphatidic acid acyltransferase, delta) (agpat4), transcript variant X2, mRNA']"
      ]
     },
     "execution_count": 30,
     "metadata": {},
     "output_type": "execute_result"
    }
   ],
   "source": [
    "res"
   ]
  },
  {
   "cell_type": "code",
   "execution_count": 12,
   "metadata": {},
   "outputs": [],
   "source": [
    "f = ['12', '2211']"
   ]
  },
  {
   "cell_type": "code",
   "execution_count": 13,
   "metadata": {},
   "outputs": [
    {
     "ename": "SyntaxError",
     "evalue": "can't use starred expression here (<ipython-input-13-80db5c0889d1>, line 4)",
     "output_type": "error",
     "traceback": [
      "\u001b[1;36m  File \u001b[1;32m\"<ipython-input-13-80db5c0889d1>\"\u001b[1;36m, line \u001b[1;32m4\u001b[0m\n\u001b[1;31mSyntaxError\u001b[0m\u001b[1;31m:\u001b[0m can't use starred expression here\n"
     ]
    }
   ],
   "source": [
    "a = *f"
   ]
  },
  {
   "cell_type": "code",
   "execution_count": null,
   "metadata": {},
   "outputs": [],
   "source": []
  }
 ],
 "metadata": {
  "kernelspec": {
   "display_name": "Python 3",
   "language": "python",
   "name": "python3"
  },
  "language_info": {
   "codemirror_mode": {
    "name": "ipython",
    "version": 3
   },
   "file_extension": ".py",
   "mimetype": "text/x-python",
   "name": "python",
   "nbconvert_exporter": "python",
   "pygments_lexer": "ipython3",
   "version": "3.7.9"
  }
 },
 "nbformat": 4,
 "nbformat_minor": 4
}
